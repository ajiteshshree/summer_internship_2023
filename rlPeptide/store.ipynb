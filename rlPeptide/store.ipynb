{
 "cells": [
  {
   "cell_type": "code",
   "execution_count": null,
   "id": "323320cf-5413-49f5-8c13-8893ba229663",
   "metadata": {},
   "outputs": [],
   "source": [
    "# Define a peptide sequence\n",
    "peptide_sequence = 'ALA-GLY-SER'\n",
    "\n",
    "# Create an RDKit molecule object\n",
    "mol = Chem.MolFromSequence(peptide_sequence)\n",
    "\n",
    "# Calculate the logP value using Crippen's method\n",
    "logP = Crippen.MolLogP(mol)\n",
    "\n",
    "# Print the calculated logP value\n",
    "print(f\"The logP value of the peptide sequence {peptide_sequence} is: {logP}\")\n"
   ]
  }
 ],
 "metadata": {
  "kernelspec": {
   "display_name": "Python 3 (ipykernel)",
   "language": "python",
   "name": "python3"
  },
  "language_info": {
   "codemirror_mode": {
    "name": "ipython",
    "version": 3
   },
   "file_extension": ".py",
   "mimetype": "text/x-python",
   "name": "python",
   "nbconvert_exporter": "python",
   "pygments_lexer": "ipython3",
   "version": "3.10.6"
  }
 },
 "nbformat": 4,
 "nbformat_minor": 5
}
