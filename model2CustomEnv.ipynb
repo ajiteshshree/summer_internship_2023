{
 "cells": [
  {
   "cell_type": "markdown",
   "id": "75d952c8-767a-455e-aa80-b5a524be42e1",
   "metadata": {},
   "source": [
    "<h1>Dependencies"
   ]
  },
  {
   "cell_type": "code",
   "execution_count": null,
   "id": "d8aedcba-1d93-4e1f-a1ed-d18ca5aa4475",
   "metadata": {
    "tags": []
   },
   "outputs": [],
   "source": [
    "!pip install stable-baselines3[extra]"
   ]
  },
  {
   "cell_type": "code",
   "execution_count": null,
   "id": "33d57a79-82d3-4130-a637-fb93b59f734c",
   "metadata": {
    "tags": []
   },
   "outputs": [],
   "source": [
    "!pip install gym"
   ]
  },
  {
   "cell_type": "code",
   "execution_count": null,
   "id": "fee1b436-f190-4a91-a25c-6788fcf6895f",
   "metadata": {
    "tags": []
   },
   "outputs": [],
   "source": [
    "!pip show gym"
   ]
  },
  {
   "cell_type": "code",
   "execution_count": 1,
   "id": "345c2da5-deda-491f-a45e-23dd5d6e0222",
   "metadata": {},
   "outputs": [],
   "source": [
    "import sys\n",
    "sys.path.append('c:\\\\users\\\\hp\\\\desktop\\\\projectpeptide\\\\summer_internship_2023\\\\projectpeptide\\\\lib\\\\site-packages')"
   ]
  },
  {
   "cell_type": "code",
   "execution_count": 2,
   "id": "b437ef88-83c5-437e-9d32-a5c9efda5491",
   "metadata": {},
   "outputs": [],
   "source": [
    "import gym \n",
    "from gym import Env\n",
    "from gym.spaces import Discrete, Box, Dict, Tuple, MultiBinary, MultiDiscrete \n",
    "\n",
    "import numpy as np\n",
    "import random\n",
    "\n",
    "import os\n",
    "\n",
    "from stable_baselines3 import PPO\n",
    "from stable_baselines3.common.vec_env import VecFrameStack\n",
    "from stable_baselines3.common.evaluation import evaluate_policy\n",
    "\n",
    "from rdkit import Chem\n",
    "from rdkit.Chem import Crippen"
   ]
  },
  {
   "cell_type": "markdown",
   "id": "2955ce5c-baf4-4548-8def-5cfa3deeadbe",
   "metadata": {},
   "source": [
    "<h1> Types of Spaces"
   ]
  },
  {
   "cell_type": "code",
   "execution_count": null,
   "id": "e90f079a-207d-40bf-8625-9c40d5b45ea2",
   "metadata": {
    "tags": []
   },
   "outputs": [],
   "source": [
    "Discrete(3).sample()"
   ]
  },
  {
   "cell_type": "code",
   "execution_count": null,
   "id": "4be42bbd-0f19-4b17-a36d-cd5425f775bb",
   "metadata": {},
   "outputs": [],
   "source": [
    "Box(0,1,shape=(3,3)).sample()"
   ]
  },
  {
   "cell_type": "code",
   "execution_count": null,
   "id": "064e0de5-2355-4af9-9a8d-8af3d636f5c6",
   "metadata": {},
   "outputs": [],
   "source": [
    "Tuple((Discrete(2), Box(0,100, shape=(1,)))).sample()"
   ]
  },
  {
   "cell_type": "code",
   "execution_count": null,
   "id": "6cbfa678-8813-4bdb-a77b-f024a6be9fa2",
   "metadata": {},
   "outputs": [],
   "source": [
    "Dict({'height':Discrete(2), \"speed\":Box(0,100, shape=(1,))}).sample()"
   ]
  },
  {
   "cell_type": "code",
   "execution_count": null,
   "id": "01ac01e7-e8f5-4409-a7f0-a5a72c7f5826",
   "metadata": {},
   "outputs": [],
   "source": [
    "MultiBinary(4).sample()"
   ]
  },
  {
   "cell_type": "code",
   "execution_count": null,
   "id": "9482789c-9c2b-46af-a0ab-6c8cec1d4bad",
   "metadata": {},
   "outputs": [],
   "source": [
    "MultiDiscrete([5,2,2]).sample()"
   ]
  },
  {
   "cell_type": "markdown",
   "id": "00f76bce-24d8-471c-ab93-ce772b6c6a26",
   "metadata": {},
   "source": [
    "<h1> Building an Environment"
   ]
  },
  {
   "cell_type": "code",
   "execution_count": 3,
   "id": "6e2887a5-75ec-4999-b644-cdddfb3f6855",
   "metadata": {},
   "outputs": [],
   "source": [
    "len_peptide = 5"
   ]
  },
  {
   "cell_type": "code",
   "execution_count": 11,
   "id": "2d3da018-a384-402b-91aa-87b96a0bc6d8",
   "metadata": {},
   "outputs": [],
   "source": [
    "#Reward as logP only\n",
    "\n",
    "# Function to convert amino acid indices to a tripeptide sequence\n",
    "def indices_to_peptide(indices):\n",
    "    amino_acids = ['ALA', 'ARG', 'ASN', 'ASP', 'CYS', 'GLN', 'GLU', 'GLY', 'HIS', 'ILE', 'LEU', 'LYS', 'MET', 'PHE', 'PRO', 'SER', 'THR', 'TRP', 'TYR', 'VAL']\n",
    "    peptide_sequence = '-'.join([amino_acids[i] for i in indices])\n",
    "    return peptide_sequence\n",
    "\n",
    "# Function to calculate logP for a tripeptide\n",
    "def calculate_logP(peptide_sequence):\n",
    "    # Create an RDKit molecule object\n",
    "    mol = Chem.MolFromSequence(peptide_sequence)\n",
    "\n",
    "    # Check if the molecule is valid\n",
    "    if mol is not None:\n",
    "        # Calculate the logP value using Crippen's method\n",
    "        logP = Crippen.MolLogP(mol)\n",
    "        return logP\n",
    "    else:\n",
    "        # Return a placeholder value (you may want to handle invalid sequences differently)\n",
    "        return -1000000000.0"
   ]
  },
  {
   "cell_type": "code",
   "execution_count": 14,
   "id": "0c4543e7-39de-4c69-ba20-5a5396841bf9",
   "metadata": {},
   "outputs": [
    {
     "name": "stdout",
     "output_type": "stream",
     "text": [
      "Protein chain as interger: [ 5  2 17 11  5]\n",
      "Protein chain as string: GLN-ASN-TRP-LYS-GLN\n",
      "Hydrophobicity value for protein chain: -10.684129999999941\n"
     ]
    }
   ],
   "source": [
    "peptide = MultiDiscrete([20] * len_peptide).sample()\n",
    "\n",
    "# Convert indices to a tripeptide sequence\n",
    "sequence = indices_to_peptide(peptide)\n",
    "hydrophobicity = calculate_logP(sequence)\n",
    "\n",
    "print('Protein chain as interger: {}\\nProtein chain as string: {}\\nHydrophobicity value for protein chain: {}'.format(peptide, sequence, hydrophobicity))"
   ]
  },
  {
   "cell_type": "code",
   "execution_count": 29,
   "id": "92ba09a8-7666-4a08-b93d-585b291a268c",
   "metadata": {},
   "outputs": [],
   "source": [
    "class peptideEnv(Env):\n",
    "    \n",
    "    def __init__(self):\n",
    "        \n",
    "        # Actions taken are placing the randomized amino acid at the randomized position of the peptide \n",
    "        self.action_space = MultiDiscrete([20, len_peptide])\n",
    "        \n",
    "        # all the peptides sequence possible\n",
    "        self.observation_space = MultiDiscrete([20] * len_peptide)\n",
    "        \n",
    "        # Set start as a randomized peptide\n",
    "        self.state = MultiDiscrete([20] * len_peptide).sample()\n",
    "        self.critical_logP = -1000000000.0\n",
    "        \n",
    "        self.numAction = 100\n",
    "        \n",
    "        \n",
    "        \n",
    "    def step(self, action):\n",
    "        \n",
    "        # Extract amino acid and position from the action\n",
    "        amino_acid = action // len_peptide\n",
    "        position = action % len_peptide\n",
    "\n",
    "        # Update the state based on the action\n",
    "        self.state[position] = amino_acid\n",
    "        self.numAction -=1\n",
    "        \n",
    "        \n",
    "        \n",
    "        # Convert indices to a peptide sequence and calculate logP \n",
    "        # for the peptide\n",
    "        sequence = indices_to_peptide(self.state)\n",
    "        logP_value = calculate_logP(sequence)\n",
    "        \n",
    "        \n",
    "        # Calculate reward\n",
    "        if logP_value > self.critical_logP: \n",
    "            reward = 1 \n",
    "            self.critical_logP = logP_value\n",
    "        elif logP_value == self.critical_logP:\n",
    "            reward = 0\n",
    "        else:\n",
    "            reward = -1 \n",
    "        \n",
    "        # Check if shower is done\n",
    "        if self.numAction <= 0: \n",
    "            done = True\n",
    "        else:\n",
    "            done = False\n",
    "        \n",
    "        info = {}\n",
    "        \n",
    "        # Return step information\n",
    "        return self.state, reward, done, info\n",
    "\n",
    "    \n",
    "    \n",
    "    def render(self):\n",
    "        # Implement viz\n",
    "        pass\n",
    "    \n",
    "    \n",
    "    \n",
    "    def reset(self):\n",
    "        # Reset the peptide to a new randomized state\n",
    "        self.state = MultiDiscrete([20] * len_peptide).sample()\n",
    "\n",
    "        # Reset critical_logP at the beginning of each episode\n",
    "        self.critical_logP = -1000000000.0\n",
    "        self.numAction = 100\n",
    "        return self.state"
   ]
  },
  {
   "cell_type": "code",
   "execution_count": 30,
   "id": "4b2990aa-c460-4154-9bb1-a818cb73a230",
   "metadata": {},
   "outputs": [],
   "source": [
    "env = peptideEnv()"
   ]
  },
  {
   "cell_type": "code",
   "execution_count": 31,
   "id": "47be6dd0-7a39-467f-a3a9-bd1aaf9b3d2c",
   "metadata": {},
   "outputs": [
    {
     "data": {
      "text/plain": [
       "array([ 8,  0, 16,  9, 13], dtype=int64)"
      ]
     },
     "execution_count": 31,
     "metadata": {},
     "output_type": "execute_result"
    }
   ],
   "source": [
    "env.observation_space.sample()"
   ]
  },
  {
   "cell_type": "code",
   "execution_count": 32,
   "id": "2ea0ce06-896c-4d38-9376-47498c7ec2ef",
   "metadata": {},
   "outputs": [
    {
     "data": {
      "text/plain": [
       "array([ 2,  2, 14,  0, 15], dtype=int64)"
      ]
     },
     "execution_count": 32,
     "metadata": {},
     "output_type": "execute_result"
    }
   ],
   "source": [
    "env.reset()"
   ]
  },
  {
   "cell_type": "code",
   "execution_count": 33,
   "id": "c0492da3-492e-4c20-a19c-99e4ea3521be",
   "metadata": {},
   "outputs": [],
   "source": [
    "# from stable_baselines3.common.env_checker import check_env\n",
    "# check_env(env, warn=True)"
   ]
  },
  {
   "cell_type": "markdown",
   "id": "49e23aae-73f1-42ad-9db7-fd17d436ab9c",
   "metadata": {},
   "source": [
    "<h1> Test Environment"
   ]
  },
  {
   "cell_type": "code",
   "execution_count": 19,
   "id": "689332bd-c722-447b-aac0-40e0a1b5c373",
   "metadata": {},
   "outputs": [
    {
     "name": "stdout",
     "output_type": "stream",
     "text": [
      "Episode:1 Score:-80\n",
      "Episode:2 Score:-74\n",
      "Episode:3 Score:-87\n",
      "Episode:4 Score:-80\n",
      "Episode:5 Score:-85\n"
     ]
    }
   ],
   "source": [
    "episodes = 5\n",
    "for episode in range(1, episodes+1):\n",
    "    state = env.reset()\n",
    "    done = False\n",
    "    score = 0 \n",
    "    \n",
    "    while not done:\n",
    "        env.render()\n",
    "        action = env.action_space.sample()\n",
    "        n_state, reward, done, info = env.step(action)\n",
    "        score+=reward\n",
    "    print('Episode:{} Score:{}'.format(episode, score))\n",
    "env.close()"
   ]
  },
  {
   "cell_type": "code",
   "execution_count": 20,
   "id": "5049eee2-7045-43a2-be7e-c151b4dc68aa",
   "metadata": {},
   "outputs": [],
   "source": [
    "env.close()"
   ]
  },
  {
   "cell_type": "markdown",
   "id": "196547e1-3f07-46de-a94b-69f18f728734",
   "metadata": {},
   "source": [
    "<h1> Train Model"
   ]
  },
  {
   "cell_type": "code",
   "execution_count": 34,
   "id": "aa3a0c64-0e60-47ef-850a-8f23e9cc5959",
   "metadata": {},
   "outputs": [],
   "source": [
    "log_path = os.path.join('Training', 'Logs')"
   ]
  },
  {
   "cell_type": "code",
   "execution_count": 35,
   "id": "51eca77d-4100-4503-9ef9-3ad6fdfa3070",
   "metadata": {},
   "outputs": [],
   "source": [
    "del model"
   ]
  },
  {
   "cell_type": "code",
   "execution_count": 36,
   "id": "4fcf73f9-5e67-4e2f-aa0c-9d33d746d98f",
   "metadata": {},
   "outputs": [
    {
     "name": "stdout",
     "output_type": "stream",
     "text": [
      "Using cpu device\n",
      "Wrapping the env with a `Monitor` wrapper\n",
      "Wrapping the env in a DummyVecEnv.\n"
     ]
    }
   ],
   "source": [
    "model = PPO(\"MlpPolicy\", env, verbose=1, tensorboard_log=log_path)"
   ]
  },
  {
   "cell_type": "code",
   "execution_count": 37,
   "id": "4d3b9d83-915c-45f7-bf5d-8318d0400ed5",
   "metadata": {
    "scrolled": true,
    "tags": []
   },
   "outputs": [
    {
     "name": "stdout",
     "output_type": "stream",
     "text": [
      "Logging to Training\\Logs\\PPO_1\n",
      "----------------------------------------\n",
      "| rollout/                |            |\n",
      "|    ep_len_mean          | 100        |\n",
      "|    ep_rew_mean          | -71.2      |\n",
      "| time/                   |            |\n",
      "|    fps                  | 214        |\n",
      "|    iterations           | 10         |\n",
      "|    time_elapsed         | 95         |\n",
      "|    total_timesteps      | 20480      |\n",
      "| train/                  |            |\n",
      "|    approx_kl            | 0.00809248 |\n",
      "|    clip_fraction        | 0.0843     |\n",
      "|    clip_range           | 0.2        |\n",
      "|    entropy_loss         | -4.46      |\n",
      "|    explained_variance   | -4.66e-05  |\n",
      "|    learning_rate        | 0.0003     |\n",
      "|    loss                 | 66.1       |\n",
      "|    n_updates            | 90         |\n",
      "|    policy_gradient_loss | -0.0178    |\n",
      "|    value_loss           | 98.9       |\n",
      "----------------------------------------\n",
      "-----------------------------------------\n",
      "| rollout/                |             |\n",
      "|    ep_len_mean          | 100         |\n",
      "|    ep_rew_mean          | -57.2       |\n",
      "| time/                   |             |\n",
      "|    fps                  | 212         |\n",
      "|    iterations           | 20          |\n",
      "|    time_elapsed         | 192         |\n",
      "|    total_timesteps      | 40960       |\n",
      "| train/                  |             |\n",
      "|    approx_kl            | 0.010440141 |\n",
      "|    clip_fraction        | 0.104       |\n",
      "|    clip_range           | 0.2         |\n",
      "|    entropy_loss         | -4.07       |\n",
      "|    explained_variance   | -4.52e-05   |\n",
      "|    learning_rate        | 0.0003      |\n",
      "|    loss                 | 48.2        |\n",
      "|    n_updates            | 190         |\n",
      "|    policy_gradient_loss | -0.0132     |\n",
      "|    value_loss           | 78.7        |\n",
      "-----------------------------------------\n",
      "-----------------------------------------\n",
      "| rollout/                |             |\n",
      "|    ep_len_mean          | 100         |\n",
      "|    ep_rew_mean          | -21         |\n",
      "| time/                   |             |\n",
      "|    fps                  | 207         |\n",
      "|    iterations           | 30          |\n",
      "|    time_elapsed         | 296         |\n",
      "|    total_timesteps      | 61440       |\n",
      "| train/                  |             |\n",
      "|    approx_kl            | 0.010670269 |\n",
      "|    clip_fraction        | 0.0918      |\n",
      "|    clip_range           | 0.2         |\n",
      "|    entropy_loss         | -3.33       |\n",
      "|    explained_variance   | 0.000126    |\n",
      "|    learning_rate        | 0.0003      |\n",
      "|    loss                 | 22.1        |\n",
      "|    n_updates            | 290         |\n",
      "|    policy_gradient_loss | -0.00917    |\n",
      "|    value_loss           | 35.4        |\n",
      "-----------------------------------------\n",
      "-----------------------------------------\n",
      "| rollout/                |             |\n",
      "|    ep_len_mean          | 100         |\n",
      "|    ep_rew_mean          | -6.48       |\n",
      "| time/                   |             |\n",
      "|    fps                  | 198         |\n",
      "|    iterations           | 40          |\n",
      "|    time_elapsed         | 413         |\n",
      "|    total_timesteps      | 81920       |\n",
      "| train/                  |             |\n",
      "|    approx_kl            | 0.014716927 |\n",
      "|    clip_fraction        | 0.157       |\n",
      "|    clip_range           | 0.2         |\n",
      "|    entropy_loss         | -2.92       |\n",
      "|    explained_variance   | -0.00348    |\n",
      "|    learning_rate        | 0.0003      |\n",
      "|    loss                 | 2.76        |\n",
      "|    n_updates            | 390         |\n",
      "|    policy_gradient_loss | -0.00888    |\n",
      "|    value_loss           | 8.6         |\n",
      "-----------------------------------------\n",
      "-----------------------------------------\n",
      "| rollout/                |             |\n",
      "|    ep_len_mean          | 100         |\n",
      "|    ep_rew_mean          | -2.59       |\n",
      "| time/                   |             |\n",
      "|    fps                  | 193         |\n",
      "|    iterations           | 50          |\n",
      "|    time_elapsed         | 529         |\n",
      "|    total_timesteps      | 102400      |\n",
      "| train/                  |             |\n",
      "|    approx_kl            | 0.007381676 |\n",
      "|    clip_fraction        | 0.0945      |\n",
      "|    clip_range           | 0.2         |\n",
      "|    entropy_loss         | -2.84       |\n",
      "|    explained_variance   | 0.0138      |\n",
      "|    learning_rate        | 0.0003      |\n",
      "|    loss                 | 10.7        |\n",
      "|    n_updates            | 490         |\n",
      "|    policy_gradient_loss | -0.00672    |\n",
      "|    value_loss           | 19          |\n",
      "-----------------------------------------\n",
      "-----------------------------------------\n",
      "| rollout/                |             |\n",
      "|    ep_len_mean          | 100         |\n",
      "|    ep_rew_mean          | -2.68       |\n",
      "| time/                   |             |\n",
      "|    fps                  | 189         |\n",
      "|    iterations           | 60          |\n",
      "|    time_elapsed         | 647         |\n",
      "|    total_timesteps      | 122880      |\n",
      "| train/                  |             |\n",
      "|    approx_kl            | 0.007954815 |\n",
      "|    clip_fraction        | 0.0929      |\n",
      "|    clip_range           | 0.2         |\n",
      "|    entropy_loss         | -2.76       |\n",
      "|    explained_variance   | -0.0173     |\n",
      "|    learning_rate        | 0.0003      |\n",
      "|    loss                 | 0.0628      |\n",
      "|    n_updates            | 590         |\n",
      "|    policy_gradient_loss | -0.0144     |\n",
      "|    value_loss           | 0.343       |\n",
      "-----------------------------------------\n",
      "------------------------------------------\n",
      "| rollout/                |              |\n",
      "|    ep_len_mean          | 100          |\n",
      "|    ep_rew_mean          | -4.38        |\n",
      "| time/                   |              |\n",
      "|    fps                  | 189          |\n",
      "|    iterations           | 70           |\n",
      "|    time_elapsed         | 756          |\n",
      "|    total_timesteps      | 143360       |\n",
      "| train/                  |              |\n",
      "|    approx_kl            | 0.0081980545 |\n",
      "|    clip_fraction        | 0.101        |\n",
      "|    clip_range           | 0.2          |\n",
      "|    entropy_loss         | -2.41        |\n",
      "|    explained_variance   | 0.0387       |\n",
      "|    learning_rate        | 0.0003       |\n",
      "|    loss                 | 9.76         |\n",
      "|    n_updates            | 690          |\n",
      "|    policy_gradient_loss | -0.00478     |\n",
      "|    value_loss           | 18.9         |\n",
      "------------------------------------------\n",
      "------------------------------------------\n",
      "| rollout/                |              |\n",
      "|    ep_len_mean          | 100          |\n",
      "|    ep_rew_mean          | -0.44        |\n",
      "| time/                   |              |\n",
      "|    fps                  | 191          |\n",
      "|    iterations           | 80           |\n",
      "|    time_elapsed         | 854          |\n",
      "|    total_timesteps      | 163840       |\n",
      "| train/                  |              |\n",
      "|    approx_kl            | 0.0066474434 |\n",
      "|    clip_fraction        | 0.0852       |\n",
      "|    clip_range           | 0.2          |\n",
      "|    entropy_loss         | -2.34        |\n",
      "|    explained_variance   | 0.0224       |\n",
      "|    learning_rate        | 0.0003       |\n",
      "|    loss                 | 6.46         |\n",
      "|    n_updates            | 790          |\n",
      "|    policy_gradient_loss | -0.0057      |\n",
      "|    value_loss           | 10.4         |\n",
      "------------------------------------------\n",
      "-----------------------------------------\n",
      "| rollout/                |             |\n",
      "|    ep_len_mean          | 100         |\n",
      "|    ep_rew_mean          | -1.35       |\n",
      "| time/                   |             |\n",
      "|    fps                  | 193         |\n",
      "|    iterations           | 90          |\n",
      "|    time_elapsed         | 950         |\n",
      "|    total_timesteps      | 184320      |\n",
      "| train/                  |             |\n",
      "|    approx_kl            | 0.005254511 |\n",
      "|    clip_fraction        | 0.0493      |\n",
      "|    clip_range           | 0.2         |\n",
      "|    entropy_loss         | -1.99       |\n",
      "|    explained_variance   | 0.0254      |\n",
      "|    learning_rate        | 0.0003      |\n",
      "|    loss                 | 9.45        |\n",
      "|    n_updates            | 890         |\n",
      "|    policy_gradient_loss | -0.00489    |\n",
      "|    value_loss           | 18.7        |\n",
      "-----------------------------------------\n",
      "-----------------------------------------\n",
      "| rollout/                |             |\n",
      "|    ep_len_mean          | 100         |\n",
      "|    ep_rew_mean          | -2.06       |\n",
      "| time/                   |             |\n",
      "|    fps                  | 195         |\n",
      "|    iterations           | 100         |\n",
      "|    time_elapsed         | 1045        |\n",
      "|    total_timesteps      | 204800      |\n",
      "| train/                  |             |\n",
      "|    approx_kl            | 0.008907395 |\n",
      "|    clip_fraction        | 0.0911      |\n",
      "|    clip_range           | 0.2         |\n",
      "|    entropy_loss         | -1.91       |\n",
      "|    explained_variance   | 0.0323      |\n",
      "|    learning_rate        | 0.0003      |\n",
      "|    loss                 | 5.37        |\n",
      "|    n_updates            | 990         |\n",
      "|    policy_gradient_loss | -0.00545    |\n",
      "|    value_loss           | 9.86        |\n",
      "-----------------------------------------\n",
      "------------------------------------------\n",
      "| rollout/                |              |\n",
      "|    ep_len_mean          | 100          |\n",
      "|    ep_rew_mean          | -2.98        |\n",
      "| time/                   |              |\n",
      "|    fps                  | 196          |\n",
      "|    iterations           | 110          |\n",
      "|    time_elapsed         | 1144         |\n",
      "|    total_timesteps      | 225280       |\n",
      "| train/                  |              |\n",
      "|    approx_kl            | 0.0041578487 |\n",
      "|    clip_fraction        | 0.0447       |\n",
      "|    clip_range           | 0.2          |\n",
      "|    entropy_loss         | -1.63        |\n",
      "|    explained_variance   | 0.054        |\n",
      "|    learning_rate        | 0.0003       |\n",
      "|    loss                 | 11.3         |\n",
      "|    n_updates            | 1090         |\n",
      "|    policy_gradient_loss | -0.00289     |\n",
      "|    value_loss           | 18.4         |\n",
      "------------------------------------------\n",
      "------------------------------------------\n",
      "| rollout/                |              |\n",
      "|    ep_len_mean          | 100          |\n",
      "|    ep_rew_mean          | 2.78         |\n",
      "| time/                   |              |\n",
      "|    fps                  | 198          |\n",
      "|    iterations           | 120          |\n",
      "|    time_elapsed         | 1240         |\n",
      "|    total_timesteps      | 245760       |\n",
      "| train/                  |              |\n",
      "|    approx_kl            | 0.0099604195 |\n",
      "|    clip_fraction        | 0.106        |\n",
      "|    clip_range           | 0.2          |\n",
      "|    entropy_loss         | -1.67        |\n",
      "|    explained_variance   | 0.83         |\n",
      "|    learning_rate        | 0.0003       |\n",
      "|    loss                 | -0.0288      |\n",
      "|    n_updates            | 1190         |\n",
      "|    policy_gradient_loss | -0.0233      |\n",
      "|    value_loss           | 0.0428       |\n",
      "------------------------------------------\n",
      "-----------------------------------------\n",
      "| rollout/                |             |\n",
      "|    ep_len_mean          | 100         |\n",
      "|    ep_rew_mean          | 1.11        |\n",
      "| time/                   |             |\n",
      "|    fps                  | 198         |\n",
      "|    iterations           | 130         |\n",
      "|    time_elapsed         | 1338        |\n",
      "|    total_timesteps      | 266240      |\n",
      "| train/                  |             |\n",
      "|    approx_kl            | 0.009067094 |\n",
      "|    clip_fraction        | 0.0544      |\n",
      "|    clip_range           | 0.2         |\n",
      "|    entropy_loss         | -1.54       |\n",
      "|    explained_variance   | 0.444       |\n",
      "|    learning_rate        | 0.0003      |\n",
      "|    loss                 | 0.0439      |\n",
      "|    n_updates            | 1290        |\n",
      "|    policy_gradient_loss | -0.0182     |\n",
      "|    value_loss           | 0.169       |\n",
      "-----------------------------------------\n",
      "-----------------------------------------\n",
      "| rollout/                |             |\n",
      "|    ep_len_mean          | 100         |\n",
      "|    ep_rew_mean          | 1.2         |\n",
      "| time/                   |             |\n",
      "|    fps                  | 199         |\n",
      "|    iterations           | 140         |\n",
      "|    time_elapsed         | 1436        |\n",
      "|    total_timesteps      | 286720      |\n",
      "| train/                  |             |\n",
      "|    approx_kl            | 0.009771202 |\n",
      "|    clip_fraction        | 0.0823      |\n",
      "|    clip_range           | 0.2         |\n",
      "|    entropy_loss         | -1.19       |\n",
      "|    explained_variance   | 0.617       |\n",
      "|    learning_rate        | 0.0003      |\n",
      "|    loss                 | 0.0699      |\n",
      "|    n_updates            | 1390        |\n",
      "|    policy_gradient_loss | -0.0143     |\n",
      "|    value_loss           | 0.112       |\n",
      "-----------------------------------------\n",
      "-----------------------------------------\n",
      "| rollout/                |             |\n",
      "|    ep_len_mean          | 100         |\n",
      "|    ep_rew_mean          | 2.41        |\n",
      "| time/                   |             |\n",
      "|    fps                  | 200         |\n",
      "|    iterations           | 150         |\n",
      "|    time_elapsed         | 1532        |\n",
      "|    total_timesteps      | 307200      |\n",
      "| train/                  |             |\n",
      "|    approx_kl            | 0.007324166 |\n",
      "|    clip_fraction        | 0.0755      |\n",
      "|    clip_range           | 0.2         |\n",
      "|    entropy_loss         | -1.25       |\n",
      "|    explained_variance   | 0.696       |\n",
      "|    learning_rate        | 0.0003      |\n",
      "|    loss                 | -0.00652    |\n",
      "|    n_updates            | 1490        |\n",
      "|    policy_gradient_loss | -0.0212     |\n",
      "|    value_loss           | 0.0875      |\n",
      "-----------------------------------------\n",
      "------------------------------------------\n",
      "| rollout/                |              |\n",
      "|    ep_len_mean          | 100          |\n",
      "|    ep_rew_mean          | 1.55         |\n",
      "| time/                   |              |\n",
      "|    fps                  | 201          |\n",
      "|    iterations           | 160          |\n",
      "|    time_elapsed         | 1629         |\n",
      "|    total_timesteps      | 327680       |\n",
      "| train/                  |              |\n",
      "|    approx_kl            | 0.0064615305 |\n",
      "|    clip_fraction        | 0.0609       |\n",
      "|    clip_range           | 0.2          |\n",
      "|    entropy_loss         | -1.61        |\n",
      "|    explained_variance   | 0.552        |\n",
      "|    learning_rate        | 0.0003       |\n",
      "|    loss                 | 0.0411       |\n",
      "|    n_updates            | 1590         |\n",
      "|    policy_gradient_loss | -0.0158      |\n",
      "|    value_loss           | 0.146        |\n",
      "------------------------------------------\n",
      "-----------------------------------------\n",
      "| rollout/                |             |\n",
      "|    ep_len_mean          | 100         |\n",
      "|    ep_rew_mean          | 2.68        |\n",
      "| time/                   |             |\n",
      "|    fps                  | 201         |\n",
      "|    iterations           | 170         |\n",
      "|    time_elapsed         | 1726        |\n",
      "|    total_timesteps      | 348160      |\n",
      "| train/                  |             |\n",
      "|    approx_kl            | 0.006415479 |\n",
      "|    clip_fraction        | 0.0607      |\n",
      "|    clip_range           | 0.2         |\n",
      "|    entropy_loss         | -1.49       |\n",
      "|    explained_variance   | 0.784       |\n",
      "|    learning_rate        | 0.0003      |\n",
      "|    loss                 | -0.0262     |\n",
      "|    n_updates            | 1690        |\n",
      "|    policy_gradient_loss | -0.0229     |\n",
      "|    value_loss           | 0.04        |\n",
      "-----------------------------------------\n",
      "-----------------------------------------\n",
      "| rollout/                |             |\n",
      "|    ep_len_mean          | 100         |\n",
      "|    ep_rew_mean          | 2.88        |\n",
      "| time/                   |             |\n",
      "|    fps                  | 202         |\n",
      "|    iterations           | 180         |\n",
      "|    time_elapsed         | 1822        |\n",
      "|    total_timesteps      | 368640      |\n",
      "| train/                  |             |\n",
      "|    approx_kl            | 0.009265745 |\n",
      "|    clip_fraction        | 0.078       |\n",
      "|    clip_range           | 0.2         |\n",
      "|    entropy_loss         | -1.34       |\n",
      "|    explained_variance   | 0.223       |\n",
      "|    learning_rate        | 0.0003      |\n",
      "|    loss                 | 0.00658     |\n",
      "|    n_updates            | 1790        |\n",
      "|    policy_gradient_loss | -0.0233     |\n",
      "|    value_loss           | 0.32        |\n",
      "-----------------------------------------\n",
      "-----------------------------------------\n",
      "| rollout/                |             |\n",
      "|    ep_len_mean          | 100         |\n",
      "|    ep_rew_mean          | 2.05        |\n",
      "| time/                   |             |\n",
      "|    fps                  | 202         |\n",
      "|    iterations           | 190         |\n",
      "|    time_elapsed         | 1919        |\n",
      "|    total_timesteps      | 389120      |\n",
      "| train/                  |             |\n",
      "|    approx_kl            | 0.006346603 |\n",
      "|    clip_fraction        | 0.0769      |\n",
      "|    clip_range           | 0.2         |\n",
      "|    entropy_loss         | -1.22       |\n",
      "|    explained_variance   | 0.65        |\n",
      "|    learning_rate        | 0.0003      |\n",
      "|    loss                 | 0.0168      |\n",
      "|    n_updates            | 1890        |\n",
      "|    policy_gradient_loss | -0.0176     |\n",
      "|    value_loss           | 0.102       |\n",
      "-----------------------------------------\n",
      "-----------------------------------------\n",
      "| rollout/                |             |\n",
      "|    ep_len_mean          | 100         |\n",
      "|    ep_rew_mean          | 3.06        |\n",
      "| time/                   |             |\n",
      "|    fps                  | 202         |\n",
      "|    iterations           | 200         |\n",
      "|    time_elapsed         | 2018        |\n",
      "|    total_timesteps      | 409600      |\n",
      "| train/                  |             |\n",
      "|    approx_kl            | 0.008833546 |\n",
      "|    clip_fraction        | 0.0484      |\n",
      "|    clip_range           | 0.2         |\n",
      "|    entropy_loss         | -1          |\n",
      "|    explained_variance   | 0.6         |\n",
      "|    learning_rate        | 0.0003      |\n",
      "|    loss                 | 0.0926      |\n",
      "|    n_updates            | 1990        |\n",
      "|    policy_gradient_loss | -0.021      |\n",
      "|    value_loss           | 0.157       |\n",
      "-----------------------------------------\n",
      "-----------------------------------------\n",
      "| rollout/                |             |\n",
      "|    ep_len_mean          | 100         |\n",
      "|    ep_rew_mean          | 3.42        |\n",
      "| time/                   |             |\n",
      "|    fps                  | 203         |\n",
      "|    iterations           | 210         |\n",
      "|    time_elapsed         | 2114        |\n",
      "|    total_timesteps      | 430080      |\n",
      "| train/                  |             |\n",
      "|    approx_kl            | 0.007824382 |\n",
      "|    clip_fraction        | 0.0705      |\n",
      "|    clip_range           | 0.2         |\n",
      "|    entropy_loss         | -0.9        |\n",
      "|    explained_variance   | 0.881       |\n",
      "|    learning_rate        | 0.0003      |\n",
      "|    loss                 | 0.00515     |\n",
      "|    n_updates            | 2090        |\n",
      "|    policy_gradient_loss | -0.0193     |\n",
      "|    value_loss           | 0.0481      |\n",
      "-----------------------------------------\n",
      "-----------------------------------------\n",
      "| rollout/                |             |\n",
      "|    ep_len_mean          | 100         |\n",
      "|    ep_rew_mean          | 4.38        |\n",
      "| time/                   |             |\n",
      "|    fps                  | 203         |\n",
      "|    iterations           | 220         |\n",
      "|    time_elapsed         | 2211        |\n",
      "|    total_timesteps      | 450560      |\n",
      "| train/                  |             |\n",
      "|    approx_kl            | 0.007360977 |\n",
      "|    clip_fraction        | 0.126       |\n",
      "|    clip_range           | 0.2         |\n",
      "|    entropy_loss         | -0.934      |\n",
      "|    explained_variance   | 0.837       |\n",
      "|    learning_rate        | 0.0003      |\n",
      "|    loss                 | 0.00161     |\n",
      "|    n_updates            | 2190        |\n",
      "|    policy_gradient_loss | -0.0189     |\n",
      "|    value_loss           | 0.0555      |\n",
      "-----------------------------------------\n",
      "-----------------------------------------\n",
      "| rollout/                |             |\n",
      "|    ep_len_mean          | 100         |\n",
      "|    ep_rew_mean          | 4.46        |\n",
      "| time/                   |             |\n",
      "|    fps                  | 204         |\n",
      "|    iterations           | 230         |\n",
      "|    time_elapsed         | 2308        |\n",
      "|    total_timesteps      | 471040      |\n",
      "| train/                  |             |\n",
      "|    approx_kl            | 0.005387792 |\n",
      "|    clip_fraction        | 0.037       |\n",
      "|    clip_range           | 0.2         |\n",
      "|    entropy_loss         | -0.764      |\n",
      "|    explained_variance   | 0.656       |\n",
      "|    learning_rate        | 0.0003      |\n",
      "|    loss                 | -0.0121     |\n",
      "|    n_updates            | 2290        |\n",
      "|    policy_gradient_loss | -0.0165     |\n",
      "|    value_loss           | 0.0806      |\n",
      "-----------------------------------------\n",
      "------------------------------------------\n",
      "| rollout/                |              |\n",
      "|    ep_len_mean          | 100          |\n",
      "|    ep_rew_mean          | 4.64         |\n",
      "| time/                   |              |\n",
      "|    fps                  | 204          |\n",
      "|    iterations           | 240          |\n",
      "|    time_elapsed         | 2405         |\n",
      "|    total_timesteps      | 491520       |\n",
      "| train/                  |              |\n",
      "|    approx_kl            | 0.0060949475 |\n",
      "|    clip_fraction        | 0.0855       |\n",
      "|    clip_range           | 0.2          |\n",
      "|    entropy_loss         | -1.17        |\n",
      "|    explained_variance   | 0.906        |\n",
      "|    learning_rate        | 0.0003       |\n",
      "|    loss                 | -0.000579    |\n",
      "|    n_updates            | 2390         |\n",
      "|    policy_gradient_loss | -0.0139      |\n",
      "|    value_loss           | 0.0297       |\n",
      "------------------------------------------\n"
     ]
    },
    {
     "data": {
      "text/plain": [
       "<stable_baselines3.ppo.ppo.PPO at 0x1485fb6e070>"
      ]
     },
     "execution_count": 37,
     "metadata": {},
     "output_type": "execute_result"
    }
   ],
   "source": [
    "model.learn(total_timesteps= 500000, log_interval= 10)"
   ]
  },
  {
   "cell_type": "markdown",
   "id": "329bb784-d3e2-4092-9be2-57747ada2d14",
   "metadata": {
    "jupyter": {
     "source_hidden": true
    },
    "tags": []
   },
   "source": [
    "<h1> Save Model"
   ]
  },
  {
   "cell_type": "code",
   "execution_count": 39,
   "id": "1282f99b-f352-4119-ae4f-01c96f8211aa",
   "metadata": {},
   "outputs": [],
   "source": [
    "model.save('PPO')"
   ]
  },
  {
   "cell_type": "markdown",
   "id": "551cb01f-967e-4f71-b300-77b4feaeeca2",
   "metadata": {},
   "source": [
    "<h1> Mean Reward"
   ]
  },
  {
   "cell_type": "code",
   "execution_count": 40,
   "id": "0de8edd3-ddab-4663-bb53-4ce956f41fd6",
   "metadata": {},
   "outputs": [
    {
     "name": "stderr",
     "output_type": "stream",
     "text": [
      "c:\\users\\hp\\desktop\\projectpeptide\\summer_internship_2023\\projectpeptide\\lib\\site-packages\\stable_baselines3\\common\\evaluation.py:67: UserWarning: Evaluation environment is not wrapped with a ``Monitor`` wrapper. This may result in reporting modified episode lengths and rewards, if other wrappers happen to modify these. Consider wrapping environment first with ``Monitor`` wrapper.\n",
      "  warnings.warn(\n",
      "c:\\users\\hp\\desktop\\projectpeptide\\summer_internship_2023\\projectpeptide\\lib\\site-packages\\stable_baselines3\\common\\vec_env\\base_vec_env.py:243: UserWarning: You tried to call render() but no `render_mode` was passed to the env constructor.\n",
      "  warnings.warn(\"You tried to call render() but no `render_mode` was passed to the env constructor.\")\n"
     ]
    },
    {
     "name": "stdout",
     "output_type": "stream",
     "text": [
      "Mean Reward: 5.0, Std Reward: 1.5491933384829668\n"
     ]
    }
   ],
   "source": [
    "# Assuming 'model' and 'env' are already defined\n",
    "mean_reward, std_reward = evaluate_policy(model, env, n_eval_episodes=10, render=True)\n",
    "\n",
    "print(f\"Mean Reward: {mean_reward}, Std Reward: {std_reward}\")"
   ]
  },
  {
   "cell_type": "markdown",
   "id": "a474011e-9815-44f1-9474-685a5beaf644",
   "metadata": {},
   "source": [
    "<h1> Graphs"
   ]
  },
  {
   "cell_type": "code",
   "execution_count": 41,
   "id": "a33fa6f8-b732-498c-9895-ea2e5c3d2d1a",
   "metadata": {},
   "outputs": [],
   "source": [
    "from tensorboard.backend.event_processing.event_accumulator import EventAccumulator\n",
    "import matplotlib.pyplot as plt"
   ]
  },
  {
   "cell_type": "code",
   "execution_count": 43,
   "id": "cc8b4ac0-78d3-430d-828c-779388d254c1",
   "metadata": {},
   "outputs": [
    {
     "data": {
      "text/plain": [
       "<tensorboard.backend.event_processing.event_accumulator.EventAccumulator at 0x1485f95d670>"
      ]
     },
     "execution_count": 43,
     "metadata": {},
     "output_type": "execute_result"
    }
   ],
   "source": [
    "logPath = os.path.join('Training', 'Logs', 'PPO_1')\n",
    "\n",
    "# Load logs\n",
    "event_acc = EventAccumulator(logPath)\n",
    "event_acc.Reload()"
   ]
  },
  {
   "cell_type": "code",
   "execution_count": 44,
   "id": "919f0f7b-c182-44b0-b977-b8ca8495d199",
   "metadata": {},
   "outputs": [
    {
     "name": "stdout",
     "output_type": "stream",
     "text": [
      "['rollout/ep_len_mean', 'rollout/ep_rew_mean', 'time/fps', 'train/approx_kl', 'train/clip_fraction', 'train/clip_range', 'train/entropy_loss', 'train/explained_variance', 'train/learning_rate', 'train/loss', 'train/policy_gradient_loss', 'train/value_loss']\n"
     ]
    }
   ],
   "source": [
    "# List all scalar tags in the event file\n",
    "scalar_tags = event_acc.Tags()['scalars']\n",
    "print(scalar_tags)"
   ]
  },
  {
   "cell_type": "code",
   "execution_count": 45,
   "id": "fd56f0bb-2ffd-4d46-8fb1-0b20af518629",
   "metadata": {},
   "outputs": [
    {
     "data": {
      "text/plain": [
       "<tensorboard.backend.event_processing.event_accumulator.EventAccumulator at 0x1486450c640>"
      ]
     },
     "execution_count": 45,
     "metadata": {},
     "output_type": "execute_result"
    }
   ],
   "source": [
    "# Load logs\n",
    "event_acc = EventAccumulator(logPath)\n",
    "event_acc.Reload()"
   ]
  },
  {
   "cell_type": "code",
   "execution_count": 47,
   "id": "4b6d2aed-94c2-4687-af42-5bc07861cee5",
   "metadata": {},
   "outputs": [
    {
     "data": {
      "image/png": "[encoded data removed]",
      "text/plain": [
       "<Figure size 1080x576 with 6 Axes>"
      ]
     },
     "metadata": {
      "needs_background": "light"
     },
     "output_type": "display_data"
    }
   ],
   "source": [
    "# Extract relevant information\n",
    "timesteps = np.arange(10,250, 10)\n",
    "\n",
    "# Create a 2x3 grid of subplots\n",
    "fig, axes = plt.subplots(nrows=2, ncols=3, figsize=(15, 8))\n",
    "\n",
    "# Plot in the first subplot\n",
    "rewards = [scalars.value for scalars in event_acc.Scalars('rollout/ep_rew_mean')]\n",
    "axes[0, 0].plot(timesteps, rewards)\n",
    "axes[0, 0].set_xlabel('Total Iterations completed')\n",
    "axes[0, 0].set_ylabel('Average Episode Reward')\n",
    "axes[0, 0].set_title('Training Progress')\n",
    "\n",
    "# Plot in the first subplot\n",
    "rewards = [scalars.value for scalars in event_acc.Scalars('train/entropy_loss')]\n",
    "axes[0, 1].plot(timesteps, rewards)\n",
    "axes[0, 1].set_xlabel('Total Iterations completed')\n",
    "axes[0, 1].set_ylabel('Entropy Loss')\n",
    "axes[0, 1].set_title('Training Progress')\n",
    "\n",
    "# Plot in the first subplot\n",
    "rewards = [scalars.value for scalars in event_acc.Scalars('train/explained_variance')]\n",
    "axes[0, 2].plot(timesteps, rewards)\n",
    "axes[0, 2].set_xlabel('Total Iterations completed')\n",
    "axes[0, 2].set_ylabel('Variance')\n",
    "axes[0, 2].set_title('Training Progress')\n",
    "\n",
    "# Plot in the first subplot\n",
    "rewards = [scalars.value for scalars in event_acc.Scalars('train/loss')]\n",
    "axes[1, 0].plot(timesteps, rewards)\n",
    "axes[1, 0].set_xlabel('Total Iterations completed')\n",
    "axes[1, 0].set_ylabel('Loss')\n",
    "axes[1, 0].set_title('Training Progress')\n",
    "\n",
    "# Plot in the first subplot\n",
    "rewards = [scalars.value for scalars in event_acc.Scalars('train/policy_gradient_loss')]\n",
    "axes[1, 1].plot(timesteps, rewards)\n",
    "axes[1, 1].set_xlabel('Total Iterations completed')\n",
    "axes[1, 1].set_ylabel('Policy Gradient Loss')\n",
    "axes[1, 1].set_title('Training Progress')\n",
    "\n",
    "# Plot in the first subplot\n",
    "rewards = [scalars.value for scalars in event_acc.Scalars('train/value_loss')]\n",
    "axes[1, 2].plot(timesteps, rewards)\n",
    "axes[1, 2].set_xlabel('Total Iterations completed')\n",
    "axes[1, 2].set_ylabel('Value Loss')\n",
    "axes[1, 2].set_title('Training Progress')\n",
    "\n",
    "# Adjust layout\n",
    "plt.tight_layout()\n",
    "plt.savefig(\"Graph\")\n",
    "plt.show()"
   ]
  }
 ],
 "metadata": {
  "kernelspec": {
   "display_name": "projectPeptide",
   "language": "python",
   "name": "projectpeptide"
  },
  "language_info": {
   "codemirror_mode": {
    "name": "ipython",
    "version": 3
   },
   "file_extension": ".py",
   "mimetype": "text/x-python",
   "name": "python",
   "nbconvert_exporter": "python",
   "pygments_lexer": "ipython3",
   "version": "3.9.12"
  }
 },
 "nbformat": 4,
 "nbformat_minor": 5
}
